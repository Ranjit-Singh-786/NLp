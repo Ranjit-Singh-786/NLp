{
 "cells": [
  {
   "cell_type": "code",
   "execution_count": 45,
   "id": "e92460fc",
   "metadata": {},
   "outputs": [],
   "source": [
    "import spacy\n",
    "from spacy import displacy\n",
    "from spacy.tokens import Span"
   ]
  },
  {
   "cell_type": "code",
   "execution_count": 2,
   "id": "8d7bc60e",
   "metadata": {},
   "outputs": [],
   "source": [
    "nlp = spacy.load('en_core_web_sm')"
   ]
  },
  {
   "cell_type": "code",
   "execution_count": 38,
   "id": "01516c4c",
   "metadata": {},
   "outputs": [
    {
     "data": {
      "text/plain": [
       "['tok2vec', 'tagger', 'parser', 'attribute_ruler', 'lemmatizer', 'ner']"
      ]
     },
     "execution_count": 38,
     "metadata": {},
     "output_type": "execute_result"
    }
   ],
   "source": [
    "nlp.pipe_names\n",
    "## all are task can be done by spacy"
   ]
  },
  {
   "cell_type": "code",
   "execution_count": 39,
   "id": "238c6a57",
   "metadata": {},
   "outputs": [
    {
     "data": {
      "text/plain": [
       "['CARDINAL',\n",
       " 'DATE',\n",
       " 'EVENT',\n",
       " 'FAC',\n",
       " 'GPE',\n",
       " 'LANGUAGE',\n",
       " 'LAW',\n",
       " 'LOC',\n",
       " 'MONEY',\n",
       " 'NORP',\n",
       " 'ORDINAL',\n",
       " 'ORG',\n",
       " 'PERCENT',\n",
       " 'PERSON',\n",
       " 'PRODUCT',\n",
       " 'QUANTITY',\n",
       " 'TIME',\n",
       " 'WORK_OF_ART']"
      ]
     },
     "execution_count": 39,
     "metadata": {},
     "output_type": "execute_result"
    }
   ],
   "source": [
    "nlp.pipe_labels['ner']\n",
    "\n",
    "## all are entity labels can identified by the spacy library"
   ]
  },
  {
   "cell_type": "code",
   "execution_count": 48,
   "id": "e8844410",
   "metadata": {},
   "outputs": [],
   "source": [
    "text = \"myself Rocky , and working in amazon banglore\""
   ]
  },
  {
   "cell_type": "code",
   "execution_count": 33,
   "id": "026507d2",
   "metadata": {},
   "outputs": [],
   "source": [
    "doc = nlp(text)"
   ]
  },
  {
   "cell_type": "code",
   "execution_count": 5,
   "id": "2e3411d0",
   "metadata": {},
   "outputs": [
    {
     "name": "stdout",
     "output_type": "stream",
     "text": [
      "my\n",
      "name\n",
      "is\n",
      "ranjit\n",
      "singh\n",
      "from\n",
      "india\n",
      ",\n",
      "and\n",
      "woking\n",
      "in\n",
      "ineuron.ai\n",
      "intelligency\n",
      "pvt\n",
      ".\n",
      "ltd\n",
      ".\n",
      "banglore\n"
     ]
    }
   ],
   "source": [
    "for token in doc:\n",
    "    print(token)\n",
    "## printed all the tokens"
   ]
  },
  {
   "cell_type": "code",
   "execution_count": 34,
   "id": "3f67001f",
   "metadata": {},
   "outputs": [
    {
     "name": "stdout",
     "output_type": "stream",
     "text": [
      "entity name >>> Rocky label of entity >>> PERSON >>> explain People, including fictional\n"
     ]
    }
   ],
   "source": [
    "for item in doc.ents:\n",
    "    print(f\"entity name >>> {item.text} label of entity >>> {item.label_} >>> explain {spacy.explain(item.label_)}\")"
   ]
  },
  {
   "cell_type": "code",
   "execution_count": 37,
   "id": "4d2958dd",
   "metadata": {},
   "outputs": [
    {
     "data": {
      "text/html": [
       "<span class=\"tex2jax_ignore\"><div class=\"entities\" style=\"line-height: 2.5; direction: ltr\">myself \n",
       "<mark class=\"entity\" style=\"background: #aa9cfc; padding: 0.45em 0.6em; margin: 0 0.25em; line-height: 1; border-radius: 0.35em;\">\n",
       "    Rocky\n",
       "    <span style=\"font-size: 0.8em; font-weight: bold; line-height: 1; border-radius: 0.35em; vertical-align: middle; margin-left: 0.5rem\">PERSON</span>\n",
       "</mark>\n",
       " , and working in amazon banglore</div></span>"
      ],
      "text/plain": [
       "<IPython.core.display.HTML object>"
      ]
     },
     "metadata": {},
     "output_type": "display_data"
    }
   ],
   "source": [
    "displacy.render(doc,style='ent')\n",
    "## to visualize the NER"
   ]
  },
  {
   "cell_type": "code",
   "execution_count": 57,
   "id": "944971cc",
   "metadata": {},
   "outputs": [],
   "source": [
    "s1 = Span(doc,7,8,label=\"ORG\")\n",
    "doc.set_ents([s1],default='unmodified')\n",
    "\n",
    "# USER DEFINED ENTITY"
   ]
  },
  {
   "cell_type": "code",
   "execution_count": 60,
   "id": "fa095c2d",
   "metadata": {},
   "outputs": [
    {
     "name": "stdout",
     "output_type": "stream",
     "text": [
      "entity >> Rocky label >>> PERSON >>> explain People, including fictional\n",
      "entity >> banglore label >>> ORG >>> explain Companies, agencies, institutions, etc.\n"
     ]
    }
   ],
   "source": [
    "for item in doc.ents:\n",
    "    print(f\"entity >> {item.text} label >>> {item.label_} >>> explain {spacy.explain(item.label_)}\")"
   ]
  },
  {
   "cell_type": "code",
   "execution_count": null,
   "id": "ec000048",
   "metadata": {},
   "outputs": [],
   "source": []
  }
 ],
 "metadata": {
  "kernelspec": {
   "display_name": "Python 3 (ipykernel)",
   "language": "python",
   "name": "python3"
  },
  "language_info": {
   "codemirror_mode": {
    "name": "ipython",
    "version": 3
   },
   "file_extension": ".py",
   "mimetype": "text/x-python",
   "name": "python",
   "nbconvert_exporter": "python",
   "pygments_lexer": "ipython3",
   "version": "3.10.6"
  }
 },
 "nbformat": 4,
 "nbformat_minor": 5
}
