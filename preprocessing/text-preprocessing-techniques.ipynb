{
 "cells": [
  {
   "cell_type": "code",
   "execution_count": 4,
   "id": "1a44eb4d",
   "metadata": {},
   "outputs": [],
   "source": [
    "import nltk\n",
    "import re                                                       # to regular expression\n",
    "from nltk.corpus import stopwords                               # to stopwords\n",
    "from nltk.stem.porter  import PorterStemmer                     # to stemming\n",
    "from nltk.stem import WordNetLemmatizer                         # to lemmatizer\n",
    "from sklearn.feature_extraction.text import CountVectorizer     # to BOW\n",
    "from sklearn.feature_extraction.text import TfidfVectorizer     # to  TF-IDF\n",
    "from gensim.models import Word2Vec                              # to word2vec"
   ]
  },
  {
   "cell_type": "code",
   "execution_count": 13,
   "id": "4c7a573c",
   "metadata": {},
   "outputs": [],
   "source": [
    "ps = PorterStemmer()\n",
    "lm = WordNetLemmatizer()"
   ]
  },
  {
   "cell_type": "code",
   "execution_count": 5,
   "id": "8ee08cd9",
   "metadata": {},
   "outputs": [
    {
     "name": "stdout",
     "output_type": "stream",
     "text": [
      "showing info https://raw.githubusercontent.com/nltk/nltk_data/gh-pages/index.xml\n"
     ]
    },
    {
     "data": {
      "text/plain": [
       "True"
      ]
     },
     "execution_count": 5,
     "metadata": {},
     "output_type": "execute_result"
    }
   ],
   "source": [
    "# nltk.download()          # for the first time executing nltk code"
   ]
  },
  {
   "cell_type": "code",
   "execution_count": 8,
   "id": "05a376fe",
   "metadata": {},
   "outputs": [],
   "source": [
    "paragraph = \"\"\"\"\n",
    " I am here to deliver a speech on APJ Abdul Kalam. Dr APJ Abdul Kalam’s full name was Avul Pakir Zainuldeben Abdul Kalam, very few people know him by his full name as he was mostly addressed as ‘Missile Man of India’ and ‘People’s President’. He was born into a very poor family in Rameswaram on October 15, 1931. \n",
    "Since childhood, he enjoyed flying, and was equally curious to know how birds fly in the air? He was very intelligent and enjoyed reading, but his family did not have sufficient income for his school fees, so to support his education, he would wake up early in the morning and ride a bicycle 3 kilometres from home to collect newspapers and sell them. \n",
    "He was admitted to St. Joseph's College, Tiruchirapalli, and later he went on to complete a degree in physics in 1954 and then studied at the Madras Institute of Technology and graduated in aeronautical engineering in 1955. Since his childhood, Dr Abdul Alam wanted to be a pilot but couldn’t make his dream come true. He learned from his mistakes and accomplished numerous achievements in his life. After completing his degree, Abdul Kalam entered the Defense Department of India. He has been one of the key figures in building the nuclear capabilities of India.\n",
    "APJ Abdul Kalam was appointed to the Indian Ministry of Defense as a Technical Advisor in 1992, after which he served with DRDO and ISRO, the country's largest organization. Considered a national hero for successful nuclear tests in 1998, a second successful nuclear test was conducted in Pokhran the same year under his supervision, after which India was included in the list of nuclear-powered nations. Abdul Kalam has been active in all space programs and development programs in India as a scientist. For developing India's Agni missile, Kalam was called 'Missile Man.'Abdul Kalam made a special technological and scientific contribution, for which, along with Bharat Ratna, India's highest honour, he was awarded the Padma Bhushan, Padam Vibhushan, etc. He was also awarded an honorary doctorate by more than 30 universities in the world for the same. \n",
    "In 2002, he was elected President of India and was the country's first scientist and non-political president. He visited many countries during his tenure as President and led India's youth through his lectures and encouraged them to move forward.  ‘My vision for India’ was a Famous Speech of APJ Abdul Kalam delivered at IIT Hyderabad in 2011, and is to this day my favourite speech. His far-reaching thinking gave India's growth a fresh path and became the youth's inspiration. Dr Abdul Kalam died on July 27, 2015, from an apparent cardiac arrest while delivering a lecture at IIM Shillong at the age of 83. He spent his entire life in service and inspiration for the nation and the youth, and his death is also while addressing the youth. His death is a never-ending loss to the country.\n",
    " I am here to deliver a speech on Dr APJ Abdul Kalam. APJ Abdul Kalam was born to Jainulabdeen and Ashiamma on October 15, 1931. His father was a boat owner and his mother was a homemaker. His family's economic situation was not strong, so at an early age, he began helping his family financially.\n",
    "He graduated in 1955 from the Madras Institute of Technology and graduated from St. Joseph's College, Tiruchirappalli, in Aerospace Engineering. He joined the Defense Research and Development Organization's (DRDO) Aeronautical Development Base as a Chief Scientist after his graduation. He won credit as Project Director-General for making India's first indigenous satellite (SLV III) rocket. It was his ultimate support that brought nuclear power to India. In July 1992, he was appointed Scientific Advisor to the Indian Ministry of Defence. As a national counsellor, he played a significant role in the world-famous nuclear tests at Pokhran II. In 1981, he was awarded the Padma Bhushan Award, in 1909 the Padma Vibhushan, and in 1997 the highest civilian award of India' Bharat Ratna 'for modernizing the defence technology of India and his outstanding contribution. \n",
    "From July 25, 2002 - July 25, 2007, he served as President of India, becoming famous among Indians and receiving a lot of attention from Indian youth. He became popular as the People's President. Kalam worked as a professor, chancellor, and assistant at many institutions after leaving office. He experienced serious cardiac arrest on the evening of July 27, 2015, and fell unconscious and died 2 hours later.\n",
    "In 1999, Kalam published his autobiography and a book called The Wings of Fire. He has written many other books that are useful to the people of every generation.\n",
    "\"\"\""
   ]
  },
  {
   "cell_type": "code",
   "execution_count": 3,
   "id": "e3a46cb4",
   "metadata": {},
   "outputs": [
    {
     "data": {
      "text/plain": [
       "'\"\\n I am here to deliver a speech on APJ Abdul Kalam. Dr APJ Abdul Kalam’s full name was Avul Pakir Zainuldeben Abdul Kalam, very few people know him by his full name as he was mostly addressed as ‘Missile Man of India’ and ‘People’s President’. He was born into a very poor family in Rameswaram on October 15, 1931. \\nSince childhood, he enjoyed flying, and was equally curious to know how birds fly in the air? He was very intelligent and enjoyed reading, but his family did not have sufficient income for his school fees, so to support his education, he would wake up early in the morning and ride a bicycle 3 kilometres from home to collect newspapers and sell them. \\nHe was admitted to St. Joseph\\'s College, Tiruchirapalli, and later he went on to complete a degree in physics in 1954 and then studied at the Madras Institute of Technology and graduated in aeronautical engineering in 1955. Since his childhood, Dr Abdul Alam wanted to be a pilot but couldn’t make his dream come true. He learned from his mistakes and accomplished numerous achievements in his life. After completing his degree, Abdul Kalam entered the Defense Department of India. He has been one of the key figures in building the nuclear capabilities of India.\\nAPJ Abdul Kalam was appointed to the Indian Ministry of Defense as a Technical Advisor in 1992, after which he served with DRDO and ISRO, the country\\'s largest organization. Considered a national hero for successful nuclear tests in 1998, a second successful nuclear test was conducted in Pokhran the same year under his supervision, after which India was included in the list of nuclear-powered nations. Abdul Kalam has been active in all space programs and development programs in India as a scientist. For developing India\\'s Agni missile, Kalam was called \\'Missile Man.\\'Abdul Kalam made a special technological and scientific contribution, for which, along with Bharat Ratna, India\\'s highest honour, he was awarded the Padma Bhushan, Padam Vibhushan, etc. He was also awarded an honorary doctorate by more than 30 universities in the world for the same. \\nIn 2002, he was elected President of India and was the country\\'s first scientist and non-political president. He visited many countries during his tenure as President and led India\\'s youth through his lectures and encouraged them to move forward.  ‘My vision for India’ was a Famous Speech of APJ Abdul Kalam delivered at IIT Hyderabad in 2011, and is to this day my favourite speech. His far-reaching thinking gave India\\'s growth a fresh path and became the youth\\'s inspiration. Dr Abdul Kalam died on July 27, 2015, from an apparent cardiac arrest while delivering a lecture at IIM Shillong at the age of 83. He spent his entire life in service and inspiration for the nation and the youth, and his death is also while addressing the youth. His death is a never-ending loss to the country.\\n I am here to deliver a speech on Dr APJ Abdul Kalam. APJ Abdul Kalam was born to Jainulabdeen and Ashiamma on October 15, 1931. His father was a boat owner and his mother was a homemaker. His family\\'s economic situation was not strong, so at an early age, he began helping his family financially.\\nHe graduated in 1955 from the Madras Institute of Technology and graduated from St. Joseph\\'s College, Tiruchirappalli, in Aerospace Engineering. He joined the Defense Research and Development Organization\\'s (DRDO) Aeronautical Development Base as a Chief Scientist after his graduation. He won credit as Project Director-General for making India\\'s first indigenous satellite (SLV III) rocket. It was his ultimate support that brought nuclear power to India. In July 1992, he was appointed Scientific Advisor to the Indian Ministry of Defence. As a national counsellor, he played a significant role in the world-famous nuclear tests at Pokhran II. In 1981, he was awarded the Padma Bhushan Award, in 1909 the Padma Vibhushan, and in 1997 the highest civilian award of India\\' Bharat Ratna \\'for modernizing the defence technology of India and his outstanding contribution. \\nFrom July 25, 2002 - July 25, 2007, he served as President of India, becoming famous among Indians and receiving a lot of attention from Indian youth. He became popular as the People\\'s President. Kalam worked as a professor, chancellor, and assistant at many institutions after leaving office. He experienced serious cardiac arrest on the evening of July 27, 2015, and fell unconscious and died 2 hours later.\\nIn 1999, Kalam published his autobiography and a book called The Wings of Fire. He has written many other books that are useful to the people of every generation.\\n'"
      ]
     },
     "execution_count": 3,
     "metadata": {},
     "output_type": "execute_result"
    }
   ],
   "source": [
    "paragraph    # this is was my whole paragraph"
   ]
  },
  {
   "cell_type": "code",
   "execution_count": 9,
   "id": "efc1d72c",
   "metadata": {},
   "outputs": [
    {
     "data": {
      "text/plain": [
       "40"
      ]
     },
     "execution_count": 9,
     "metadata": {},
     "output_type": "execute_result"
    }
   ],
   "source": [
    "sentences = nltk.sent_tokenize(paragraph)\n",
    "len(sentences)"
   ]
  },
  {
   "cell_type": "code",
   "execution_count": 33,
   "id": "18049ad7",
   "metadata": {},
   "outputs": [
    {
     "data": {
      "text/plain": [
       "['\"\\n I am here to deliver a speech on APJ Abdul Kalam.',\n",
       " 'Dr APJ Abdul Kalam’s full name was Avul Pakir Zainuldeben Abdul Kalam, very few people know him by his full name as he was mostly addressed as ‘Missile Man of India’ and ‘People’s President’.',\n",
       " 'He was born into a very poor family in Rameswaram on October 15, 1931.',\n",
       " 'Since childhood, he enjoyed flying, and was equally curious to know how birds fly in the air?',\n",
       " 'He was very intelligent and enjoyed reading, but his family did not have sufficient income for his school fees, so to support his education, he would wake up early in the morning and ride a bicycle 3 kilometres from home to collect newspapers and sell them.',\n",
       " \"He was admitted to St. Joseph's College, Tiruchirapalli, and later he went on to complete a degree in physics in 1954 and then studied at the Madras Institute of Technology and graduated in aeronautical engineering in 1955.\",\n",
       " 'Since his childhood, Dr Abdul Alam wanted to be a pilot but couldn’t make his dream come true.',\n",
       " 'He learned from his mistakes and accomplished numerous achievements in his life.',\n",
       " 'After completing his degree, Abdul Kalam entered the Defense Department of India.',\n",
       " 'He has been one of the key figures in building the nuclear capabilities of India.',\n",
       " \"APJ Abdul Kalam was appointed to the Indian Ministry of Defense as a Technical Advisor in 1992, after which he served with DRDO and ISRO, the country's largest organization.\",\n",
       " 'Considered a national hero for successful nuclear tests in 1998, a second successful nuclear test was conducted in Pokhran the same year under his supervision, after which India was included in the list of nuclear-powered nations.',\n",
       " 'Abdul Kalam has been active in all space programs and development programs in India as a scientist.',\n",
       " \"For developing India's Agni missile, Kalam was called 'Missile Man.\",\n",
       " \"'Abdul Kalam made a special technological and scientific contribution, for which, along with Bharat Ratna, India's highest honour, he was awarded the Padma Bhushan, Padam Vibhushan, etc.\",\n",
       " 'He was also awarded an honorary doctorate by more than 30 universities in the world for the same.',\n",
       " \"In 2002, he was elected President of India and was the country's first scientist and non-political president.\",\n",
       " \"He visited many countries during his tenure as President and led India's youth through his lectures and encouraged them to move forward.\",\n",
       " '‘My vision for India’ was a Famous Speech of APJ Abdul Kalam delivered at IIT Hyderabad in 2011, and is to this day my favourite speech.',\n",
       " \"His far-reaching thinking gave India's growth a fresh path and became the youth's inspiration.\",\n",
       " 'Dr Abdul Kalam died on July 27, 2015, from an apparent cardiac arrest while delivering a lecture at IIM Shillong at the age of 83.',\n",
       " 'He spent his entire life in service and inspiration for the nation and the youth, and his death is also while addressing the youth.',\n",
       " 'His death is a never-ending loss to the country.',\n",
       " 'I am here to deliver a speech on Dr APJ Abdul Kalam.',\n",
       " 'APJ Abdul Kalam was born to Jainulabdeen and Ashiamma on October 15, 1931.',\n",
       " 'His father was a boat owner and his mother was a homemaker.',\n",
       " \"His family's economic situation was not strong, so at an early age, he began helping his family financially.\",\n",
       " \"He graduated in 1955 from the Madras Institute of Technology and graduated from St. Joseph's College, Tiruchirappalli, in Aerospace Engineering.\",\n",
       " \"He joined the Defense Research and Development Organization's (DRDO) Aeronautical Development Base as a Chief Scientist after his graduation.\",\n",
       " \"He won credit as Project Director-General for making India's first indigenous satellite (SLV III) rocket.\",\n",
       " 'It was his ultimate support that brought nuclear power to India.',\n",
       " 'In July 1992, he was appointed Scientific Advisor to the Indian Ministry of Defence.',\n",
       " 'As a national counsellor, he played a significant role in the world-famous nuclear tests at Pokhran II.',\n",
       " \"In 1981, he was awarded the Padma Bhushan Award, in 1909 the Padma Vibhushan, and in 1997 the highest civilian award of India' Bharat Ratna 'for modernizing the defence technology of India and his outstanding contribution.\",\n",
       " 'From July 25, 2002 - July 25, 2007, he served as President of India, becoming famous among Indians and receiving a lot of attention from Indian youth.',\n",
       " \"He became popular as the People's President.\",\n",
       " 'Kalam worked as a professor, chancellor, and assistant at many institutions after leaving office.',\n",
       " 'He experienced serious cardiac arrest on the evening of July 27, 2015, and fell unconscious and died 2 hours later.',\n",
       " 'In 1999, Kalam published his autobiography and a book called The Wings of Fire.',\n",
       " 'He has written many other books that are useful to the people of every generation.']"
      ]
     },
     "execution_count": 33,
     "metadata": {},
     "output_type": "execute_result"
    }
   ],
   "source": [
    "sentences    # converted into sentence"
   ]
  },
  {
   "cell_type": "code",
   "execution_count": 10,
   "id": "643df1dd",
   "metadata": {},
   "outputs": [
    {
     "data": {
      "text/plain": [
       "['   I am here to deliver a speech on APJ Abdul Kalam ',\n",
       " 'Dr APJ Abdul Kalam s full name was Avul Pakir Zainuldeben Abdul Kalam  very few people know him by his full name as he was mostly addressed as  Missile Man of India  and  People s President  ',\n",
       " 'He was born into a very poor family in Rameswaram on October          ',\n",
       " 'Since childhood  he enjoyed flying  and was equally curious to know how birds fly in the air ',\n",
       " 'He was very intelligent and enjoyed reading  but his family did not have sufficient income for his school fees  so to support his education  he would wake up early in the morning and ride a bicycle   kilometres from home to collect newspapers and sell them ',\n",
       " 'He was admitted to St  Joseph s College  Tiruchirapalli  and later he went on to complete a degree in physics in      and then studied at the Madras Institute of Technology and graduated in aeronautical engineering in      ',\n",
       " 'Since his childhood  Dr Abdul Alam wanted to be a pilot but couldn t make his dream come true ',\n",
       " 'He learned from his mistakes and accomplished numerous achievements in his life ',\n",
       " 'After completing his degree  Abdul Kalam entered the Defense Department of India ',\n",
       " 'He has been one of the key figures in building the nuclear capabilities of India ',\n",
       " 'APJ Abdul Kalam was appointed to the Indian Ministry of Defense as a Technical Advisor in       after which he served with DRDO and ISRO  the country s largest organization ',\n",
       " 'Considered a national hero for successful nuclear tests in       a second successful nuclear test was conducted in Pokhran the same year under his supervision  after which India was included in the list of nuclear powered nations ',\n",
       " 'Abdul Kalam has been active in all space programs and development programs in India as a scientist ',\n",
       " 'For developing India s Agni missile  Kalam was called  Missile Man ',\n",
       " ' Abdul Kalam made a special technological and scientific contribution  for which  along with Bharat Ratna  India s highest honour  he was awarded the Padma Bhushan  Padam Vibhushan  etc ',\n",
       " 'He was also awarded an honorary doctorate by more than    universities in the world for the same ',\n",
       " 'In       he was elected President of India and was the country s first scientist and non political president ',\n",
       " 'He visited many countries during his tenure as President and led India s youth through his lectures and encouraged them to move forward ',\n",
       " ' My vision for India  was a Famous Speech of APJ Abdul Kalam delivered at IIT Hyderabad in       and is to this day my favourite speech ',\n",
       " 'His far reaching thinking gave India s growth a fresh path and became the youth s inspiration ',\n",
       " 'Dr Abdul Kalam died on July           from an apparent cardiac arrest while delivering a lecture at IIM Shillong at the age of    ',\n",
       " 'He spent his entire life in service and inspiration for the nation and the youth  and his death is also while addressing the youth ',\n",
       " 'His death is a never ending loss to the country ',\n",
       " 'I am here to deliver a speech on Dr APJ Abdul Kalam ',\n",
       " 'APJ Abdul Kalam was born to Jainulabdeen and Ashiamma on October          ',\n",
       " 'His father was a boat owner and his mother was a homemaker ',\n",
       " 'His family s economic situation was not strong  so at an early age  he began helping his family financially ',\n",
       " 'He graduated in      from the Madras Institute of Technology and graduated from St  Joseph s College  Tiruchirappalli  in Aerospace Engineering ',\n",
       " 'He joined the Defense Research and Development Organization s  DRDO  Aeronautical Development Base as a Chief Scientist after his graduation ',\n",
       " 'He won credit as Project Director General for making India s first indigenous satellite  SLV III  rocket ',\n",
       " 'It was his ultimate support that brought nuclear power to India ',\n",
       " 'In July       he was appointed Scientific Advisor to the Indian Ministry of Defence ',\n",
       " 'As a national counsellor  he played a significant role in the world famous nuclear tests at Pokhran II ',\n",
       " 'In       he was awarded the Padma Bhushan Award  in      the Padma Vibhushan  and in      the highest civilian award of India  Bharat Ratna  for modernizing the defence technology of India and his outstanding contribution ',\n",
       " 'From July            July           he served as President of India  becoming famous among Indians and receiving a lot of attention from Indian youth ',\n",
       " 'He became popular as the People s President ',\n",
       " 'Kalam worked as a professor  chancellor  and assistant at many institutions after leaving office ',\n",
       " 'He experienced serious cardiac arrest on the evening of July           and fell unconscious and died   hours later ',\n",
       " 'In       Kalam published his autobiography and a book called The Wings of Fire ',\n",
       " 'He has written many other books that are useful to the people of every generation ']"
      ]
     },
     "execution_count": 10,
     "metadata": {},
     "output_type": "execute_result"
    }
   ],
   "source": [
    "for i in range(len(sentences)):\n",
    "    sentences[i] = re.sub('[^a-zA-Z]',' ',sentences[i])     # to remove all punctuation and numbers from the sentence\n",
    "sentences  "
   ]
  },
  {
   "cell_type": "code",
   "execution_count": 11,
   "id": "1b27f48e",
   "metadata": {},
   "outputs": [
    {
     "data": {
      "text/plain": [
       "(list, 40)"
      ]
     },
     "execution_count": 11,
     "metadata": {},
     "output_type": "execute_result"
    }
   ],
   "source": [
    "type(sentences),len(sentences)"
   ]
  },
  {
   "cell_type": "code",
   "execution_count": 16,
   "id": "4d9d149b",
   "metadata": {},
   "outputs": [
    {
     "data": {
      "text/plain": [
       "['He',\n",
       " 'has',\n",
       " 'written',\n",
       " 'many',\n",
       " 'other',\n",
       " 'books',\n",
       " 'that',\n",
       " 'are',\n",
       " 'useful',\n",
       " 'to',\n",
       " 'the',\n",
       " 'people',\n",
       " 'of',\n",
       " 'every',\n",
       " 'generation']"
      ]
     },
     "execution_count": 16,
     "metadata": {},
     "output_type": "execute_result"
    }
   ],
   "source": [
    " words = nltk.word_tokenize(sentences[i])      # to convert a sentence into a word\n",
    "words"
   ]
  },
  {
   "cell_type": "markdown",
   "id": "29e1f1a7",
   "metadata": {},
   "source": [
    "# to remove stopwords from the sentence"
   ]
  },
  {
   "cell_type": "code",
   "execution_count": 21,
   "id": "077bacfc",
   "metadata": {},
   "outputs": [],
   "source": [
    "\n",
    "\n",
    "for i in range(len(sentences)):\n",
    "    words = nltk.word_tokenize(sentences[i])\n",
    "    words = [word for word in words if word not in set(stopwords.words('english'))]\n",
    "    sentences[i] = ' '.join(words)"
   ]
  },
  {
   "cell_type": "code",
   "execution_count": 23,
   "id": "432aeecf",
   "metadata": {},
   "outputs": [
    {
     "data": {
      "text/plain": [
       "['I deliver speech APJ Abdul Kalam',\n",
       " 'Dr APJ Abdul Kalam full name Avul Pakir Zainuldeben Abdul Kalam people know full name mostly addressed Missile Man India People President']"
      ]
     },
     "execution_count": 23,
     "metadata": {},
     "output_type": "execute_result"
    }
   ],
   "source": [
    "sentences[0:2]    # removed stopwords"
   ]
  },
  {
   "cell_type": "markdown",
   "id": "a5a9755f",
   "metadata": {},
   "source": [
    "# to stemming"
   ]
  },
  {
   "cell_type": "code",
   "execution_count": 26,
   "id": "8e5f58b5",
   "metadata": {},
   "outputs": [
    {
     "data": {
      "text/plain": [
       "['i deliv speech apj abdul kalam',\n",
       " 'dr apj abdul kalam full name avul pakir zainuldeben abdul kalam peopl know full name mostli address missil man india peopl presid']"
      ]
     },
     "execution_count": 26,
     "metadata": {},
     "output_type": "execute_result"
    }
   ],
   "source": [
    "\n",
    "\n",
    "for i in range(len(sentences)):\n",
    "    word = nltk.word_tokenize(sentences[i])\n",
    "    words = [ps.stem(wor) for wor in word]\n",
    "    sentences[i] = ' '.join(words)\n",
    "sentences[0:2]"
   ]
  },
  {
   "cell_type": "markdown",
   "id": "c1a50001",
   "metadata": {},
   "source": [
    "# to lemmatizer"
   ]
  },
  {
   "cell_type": "code",
   "execution_count": 14,
   "id": "c2bd06fa",
   "metadata": {},
   "outputs": [
    {
     "data": {
      "text/plain": [
       "['I deliver speech APJ Abdul Kalam',\n",
       " 'Dr APJ Abdul Kalam full name Avul Pakir Zainuldeben Abdul Kalam people know full name mostly addressed Missile Man India People President']"
      ]
     },
     "execution_count": 14,
     "metadata": {},
     "output_type": "execute_result"
    }
   ],
   "source": [
    "\n",
    "\n",
    "for i in range(len(sentences)):\n",
    "    words = nltk.word_tokenize(sentences[i])\n",
    "    words = [lm.lemmatize(word) for word in words if word not in set(stopwords.words('english'))]\n",
    "    sentences[i] = ' '.join(words)\n",
    "sentences[0:2]"
   ]
  },
  {
   "cell_type": "markdown",
   "id": "fc8e6dc7",
   "metadata": {},
   "source": [
    "## BOW"
   ]
  },
  {
   "cell_type": "code",
   "execution_count": 39,
   "id": "88d3224f",
   "metadata": {},
   "outputs": [],
   "source": [
    "cv = CountVectorizer()\n",
    "bow_data = cv.fit_transform(sentences)\n"
   ]
  },
  {
   "cell_type": "code",
   "execution_count": 42,
   "id": "2a610c5f",
   "metadata": {},
   "outputs": [],
   "source": [
    "data = bow_data.toarray()"
   ]
  },
  {
   "cell_type": "code",
   "execution_count": 44,
   "id": "aa9931c2",
   "metadata": {},
   "outputs": [
    {
     "data": {
      "text/plain": [
       "(array([[1, 0, 0, ..., 0, 0, 0],\n",
       "        [2, 0, 0, ..., 0, 0, 1],\n",
       "        [0, 0, 0, ..., 0, 0, 0],\n",
       "        ...,\n",
       "        [0, 0, 0, ..., 0, 0, 0],\n",
       "        [0, 0, 0, ..., 0, 0, 0],\n",
       "        [0, 0, 0, ..., 0, 0, 0]], dtype=int64),\n",
       " (40, 274))"
      ]
     },
     "execution_count": 44,
     "metadata": {},
     "output_type": "execute_result"
    }
   ],
   "source": [
    "data,data.shape\n",
    "\n",
    "# shape ---> 40 sentences and 274 words, which means it has 274 feature for 40 rows"
   ]
  },
  {
   "cell_type": "code",
   "execution_count": 45,
   "id": "bf25fb0c",
   "metadata": {},
   "outputs": [
    {
     "data": {
      "text/plain": [
       "40"
      ]
     },
     "execution_count": 45,
     "metadata": {},
     "output_type": "execute_result"
    }
   ],
   "source": [
    "len(sentences)"
   ]
  },
  {
   "cell_type": "code",
   "execution_count": 61,
   "id": "4f781fa6",
   "metadata": {},
   "outputs": [
    {
     "data": {
      "text/plain": [
       "'Dr APJ Abdul Kalam full name Avul Pakir Zainuldeben Abdul Kalam people know full name mostly addressed Missile Man India People President'"
      ]
     },
     "execution_count": 61,
     "metadata": {},
     "output_type": "execute_result"
    }
   ],
   "source": [
    "sentences[1]"
   ]
  },
  {
   "cell_type": "code",
   "execution_count": 60,
   "id": "9458d7e5",
   "metadata": {},
   "outputs": [
    {
     "data": {
      "text/plain": [
       "array([2, 0, 0, 0, 1, 0, 0, 0, 0, 0, 0, 0, 0, 0, 0, 0, 0, 0, 1, 0, 0, 0,\n",
       "       0, 0, 0, 0, 0, 1, 0, 0, 0, 0, 0, 0, 0, 0, 0, 0, 0, 0, 0, 0, 0, 0,\n",
       "       0, 0, 0, 0, 0, 0, 0, 0, 0, 0, 0, 0, 0, 0, 0, 0, 0, 0, 0, 0, 0, 0,\n",
       "       0, 0, 0, 0, 0, 0, 0, 0, 0, 0, 1, 0, 0, 0, 0, 0, 0, 0, 0, 0, 0, 0,\n",
       "       0, 0, 0, 0, 0, 0, 0, 0, 0, 0, 0, 0, 0, 0, 0, 0, 0, 0, 0, 0, 0, 0,\n",
       "       0, 2, 0, 0, 0, 0, 0, 0, 0, 0, 0, 0, 0, 0, 0, 0, 0, 0, 0, 0, 0, 0,\n",
       "       0, 0, 0, 0, 1, 0, 0, 0, 0, 0, 0, 0, 0, 0, 0, 0, 0, 0, 2, 0, 0, 1,\n",
       "       0, 0, 0, 0, 0, 0, 0, 0, 0, 0, 0, 0, 0, 0, 1, 0, 0, 1, 0, 0, 0, 1,\n",
       "       0, 0, 0, 2, 0, 0, 0, 0, 0, 0, 0, 0, 0, 0, 0, 0, 0, 0, 0, 1, 0, 2,\n",
       "       0, 0, 0, 0, 0, 0, 0, 0, 0, 1, 0, 0, 0, 0, 0, 0, 0, 0, 0, 0, 0, 0,\n",
       "       0, 0, 0, 0, 0, 0, 0, 0, 0, 0, 0, 0, 0, 0, 0, 0, 0, 0, 0, 0, 0, 0,\n",
       "       0, 0, 0, 0, 0, 0, 0, 0, 0, 0, 0, 0, 0, 0, 0, 0, 0, 0, 0, 0, 0, 0,\n",
       "       0, 0, 0, 0, 0, 0, 0, 0, 0, 1], dtype=int64)"
      ]
     },
     "execution_count": 60,
     "metadata": {},
     "output_type": "execute_result"
    }
   ],
   "source": [
    "data[1]    # it is not mandatory that there is only o & 1 exists\n",
    "# if one word exists at more than one time then it will accordingly change"
   ]
  },
  {
   "cell_type": "markdown",
   "id": "e9684c24",
   "metadata": {},
   "source": [
    "# TF-IDF"
   ]
  },
  {
   "cell_type": "code",
   "execution_count": 15,
   "id": "a995d044",
   "metadata": {},
   "outputs": [],
   "source": [
    "tfidf = TfidfVectorizer() # you can use hyperparameter "
   ]
  },
  {
   "cell_type": "code",
   "execution_count": 16,
   "id": "bba82629",
   "metadata": {},
   "outputs": [],
   "source": [
    "data = tfidf.fit_transform(sentences).toarray()"
   ]
  },
  {
   "cell_type": "code",
   "execution_count": 18,
   "id": "4d5e9b8a",
   "metadata": {},
   "outputs": [
    {
     "data": {
      "text/plain": [
       "(40, 274)"
      ]
     },
     "execution_count": 18,
     "metadata": {},
     "output_type": "execute_result"
    }
   ],
   "source": [
    "data.shape"
   ]
  },
  {
   "cell_type": "code",
   "execution_count": 20,
   "id": "06bfe6f5",
   "metadata": {},
   "outputs": [
    {
     "data": {
      "text/plain": [
       "array([[0.3477656 , 0.        , 0.        , 0.        , 0.        ,\n",
       "        0.        , 0.        , 0.        , 0.        , 0.        ,\n",
       "        0.        , 0.        , 0.        , 0.        , 0.        ,\n",
       "        0.        , 0.        , 0.        , 0.43187174, 0.        ,\n",
       "        0.        , 0.        , 0.        , 0.        , 0.        ,\n",
       "        0.        , 0.        , 0.        , 0.        , 0.        ,\n",
       "        0.        , 0.        , 0.        , 0.        , 0.        ,\n",
       "        0.        , 0.        , 0.        , 0.        , 0.        ,\n",
       "        0.        , 0.        , 0.        , 0.        , 0.        ,\n",
       "        0.        , 0.        , 0.        , 0.        , 0.        ,\n",
       "        0.        , 0.        , 0.        , 0.        , 0.        ,\n",
       "        0.        , 0.        , 0.        , 0.        , 0.        ,\n",
       "        0.        , 0.        , 0.        , 0.        , 0.        ,\n",
       "        0.        , 0.        , 0.56408587, 0.        , 0.        ,\n",
       "        0.        , 0.        , 0.        , 0.        , 0.        ,\n",
       "        0.        , 0.        , 0.        , 0.        , 0.        ,\n",
       "        0.        , 0.        , 0.        , 0.        , 0.        ,\n",
       "        0.        , 0.        , 0.        , 0.        , 0.        ,\n",
       "        0.        , 0.        , 0.        , 0.        , 0.        ,\n",
       "        0.        , 0.        , 0.        , 0.        , 0.        ,\n",
       "        0.        , 0.        , 0.        , 0.        , 0.        ,\n",
       "        0.        , 0.        , 0.        , 0.        , 0.        ,\n",
       "        0.        , 0.        , 0.        , 0.        , 0.        ,\n",
       "        0.        , 0.        , 0.        , 0.        , 0.        ,\n",
       "        0.        , 0.        , 0.        , 0.        , 0.        ,\n",
       "        0.        , 0.        , 0.        , 0.        , 0.        ,\n",
       "        0.        , 0.        , 0.        , 0.        , 0.        ,\n",
       "        0.        , 0.        , 0.        , 0.        , 0.        ,\n",
       "        0.        , 0.        , 0.        , 0.        , 0.        ,\n",
       "        0.        , 0.        , 0.        , 0.        , 0.        ,\n",
       "        0.32371161, 0.        , 0.        , 0.        , 0.        ,\n",
       "        0.        , 0.        , 0.        , 0.        , 0.        ,\n",
       "        0.        , 0.        , 0.        , 0.        , 0.        ,\n",
       "        0.        , 0.        , 0.        , 0.        , 0.        ,\n",
       "        0.        , 0.        , 0.        , 0.        , 0.        ,\n",
       "        0.        , 0.        , 0.        , 0.        , 0.        ,\n",
       "        0.        , 0.        , 0.        , 0.        , 0.        ,\n",
       "        0.        , 0.        , 0.        , 0.        , 0.        ,\n",
       "        0.        , 0.        , 0.        , 0.        , 0.        ,\n",
       "        0.        , 0.        , 0.        , 0.        , 0.        ,\n",
       "        0.        , 0.        , 0.        , 0.        , 0.        ,\n",
       "        0.        , 0.        , 0.        , 0.        , 0.        ,\n",
       "        0.        , 0.        , 0.        , 0.        , 0.        ,\n",
       "        0.        , 0.        , 0.        , 0.        , 0.        ,\n",
       "        0.        , 0.        , 0.        , 0.        , 0.        ,\n",
       "        0.        , 0.        , 0.        , 0.        , 0.        ,\n",
       "        0.        , 0.        , 0.        , 0.        , 0.        ,\n",
       "        0.        , 0.        , 0.51919536, 0.        , 0.        ,\n",
       "        0.        , 0.        , 0.        , 0.        , 0.        ,\n",
       "        0.        , 0.        , 0.        , 0.        , 0.        ,\n",
       "        0.        , 0.        , 0.        , 0.        , 0.        ,\n",
       "        0.        , 0.        , 0.        , 0.        , 0.        ,\n",
       "        0.        , 0.        , 0.        , 0.        , 0.        ,\n",
       "        0.        , 0.        , 0.        , 0.        , 0.        ,\n",
       "        0.        , 0.        , 0.        , 0.        ]])"
      ]
     },
     "execution_count": 20,
     "metadata": {},
     "output_type": "execute_result"
    }
   ],
   "source": [
    "data[0:1]       # as you can see some words has different value, which means\n",
    "\n",
    "# they will  be perform better role. it has higher priority,that was given by the tfidf"
   ]
  },
  {
   "cell_type": "markdown",
   "id": "64cd0759",
   "metadata": {},
   "source": [
    "# Word2Vec"
   ]
  },
  {
   "cell_type": "code",
   "execution_count": 21,
   "id": "674d19a8",
   "metadata": {},
   "outputs": [],
   "source": [
    "model = Word2Vec(sentences,min_count=1)"
   ]
  },
  {
   "cell_type": "markdown",
   "id": "9a8ab5ea",
   "metadata": {},
   "source": [
    "i got executed successfully but i am not able to get result from this model.\n",
    "go"
   ]
  }
 ],
 "metadata": {
  "kernelspec": {
   "display_name": "Python 3 (ipykernel)",
   "language": "python",
   "name": "python3"
  },
  "language_info": {
   "codemirror_mode": {
    "name": "ipython",
    "version": 3
   },
   "file_extension": ".py",
   "mimetype": "text/x-python",
   "name": "python",
   "nbconvert_exporter": "python",
   "pygments_lexer": "ipython3",
   "version": "3.10.6"
  }
 },
 "nbformat": 4,
 "nbformat_minor": 5
}
